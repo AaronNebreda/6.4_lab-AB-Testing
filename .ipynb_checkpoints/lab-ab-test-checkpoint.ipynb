{
 "cells": [
  {
   "cell_type": "markdown",
   "id": "angry-pearl",
   "metadata": {
    "toc": true
   },
   "source": [
    "<h1>Table of Contents<span class=\"tocSkip\"></span></h1>\n",
    "<div class=\"toc\"><ul class=\"toc-item\"><li><span><a href=\"#AB-Testing\" data-toc-modified-id=\"AB-Testing-1\"><span class=\"toc-item-num\">1&nbsp;&nbsp;</span>AB-Testing</a></span></li></ul></div>"
   ]
  },
  {
   "cell_type": "markdown",
   "id": "c92ba6e0",
   "metadata": {},
   "source": [
    "# AB-Testing\n",
    "\n",
    "![cats](images/cats.jpeg)\n",
    "\n",
    "\n",
    "Imaginad que somos los cientificos de datos de la empresa de videojuegos Tactile Entertainment. Los desarrolladores del juego Cookie Cats pretenden introducir un cambio en el juego para aumentar la retencion de los jugadores. En cierto nivel del juego los jugadores se encuentran una puerta que les obliga a esperar o a pagar la app. Actualmente la puerta se encuentra en nivel 30 y se pretende pasar al nivel 40, para comprobar la retencion a 1 y 7 dias. Antes de realizar el cambio definitivo en el juego se raliza un test AB.\n",
    "\n",
    "Los datos estan alojados en `data/cookie_cats.csv`. Nuestro grupo de control sera la version actual `gate_30` y el grupo de tratamiento sera la version `gate_40`. Debemos realizar el test para 1 dia de retencion `retention_1` y para 7 dias `retention_7`."
   ]
  },
  {
   "cell_type": "code",
   "execution_count": 16,
   "id": "ac3b2f52",
   "metadata": {},
   "outputs": [],
   "source": [
    "# librerias\n",
    "\n",
    "import pandas as pd\n",
    "import numpy as np\n",
    "\n",
    "from statsmodels.stats.proportion import proportions_ztest, proportion_confint\n",
    "from scipy.stats import norm, sem\n",
    "\n",
    "import pylab as plt\n",
    "import seaborn as sns\n"
   ]
  },
  {
   "cell_type": "code",
   "execution_count": 13,
   "id": "515ce8a0",
   "metadata": {},
   "outputs": [],
   "source": [
    "# librerias\n",
    "\n",
    "import numpy as np\n",
    "import pandas as pd\n",
    "\n",
    "import scipy.stats as stats\n",
    "import statsmodels.stats.api as sms"
   ]
  },
  {
   "cell_type": "code",
   "execution_count": 2,
   "id": "7fe515c2",
   "metadata": {},
   "outputs": [],
   "source": [
    "# datos\n",
    "\n",
    "\n",
    "juego =  pd.read_csv('data/cookie_cats.csv')"
   ]
  },
  {
   "cell_type": "code",
   "execution_count": 3,
   "id": "f2e6147a",
   "metadata": {},
   "outputs": [
    {
     "data": {
      "text/html": [
       "<div>\n",
       "<style scoped>\n",
       "    .dataframe tbody tr th:only-of-type {\n",
       "        vertical-align: middle;\n",
       "    }\n",
       "\n",
       "    .dataframe tbody tr th {\n",
       "        vertical-align: top;\n",
       "    }\n",
       "\n",
       "    .dataframe thead th {\n",
       "        text-align: right;\n",
       "    }\n",
       "</style>\n",
       "<table border=\"1\" class=\"dataframe\">\n",
       "  <thead>\n",
       "    <tr style=\"text-align: right;\">\n",
       "      <th></th>\n",
       "      <th>userid</th>\n",
       "      <th>version</th>\n",
       "      <th>sum_gamerounds</th>\n",
       "      <th>retention_1</th>\n",
       "      <th>retention_7</th>\n",
       "    </tr>\n",
       "  </thead>\n",
       "  <tbody>\n",
       "    <tr>\n",
       "      <th>0</th>\n",
       "      <td>116</td>\n",
       "      <td>gate_30</td>\n",
       "      <td>3</td>\n",
       "      <td>False</td>\n",
       "      <td>False</td>\n",
       "    </tr>\n",
       "    <tr>\n",
       "      <th>1</th>\n",
       "      <td>337</td>\n",
       "      <td>gate_30</td>\n",
       "      <td>38</td>\n",
       "      <td>True</td>\n",
       "      <td>False</td>\n",
       "    </tr>\n",
       "    <tr>\n",
       "      <th>2</th>\n",
       "      <td>377</td>\n",
       "      <td>gate_40</td>\n",
       "      <td>165</td>\n",
       "      <td>True</td>\n",
       "      <td>False</td>\n",
       "    </tr>\n",
       "    <tr>\n",
       "      <th>3</th>\n",
       "      <td>483</td>\n",
       "      <td>gate_40</td>\n",
       "      <td>1</td>\n",
       "      <td>False</td>\n",
       "      <td>False</td>\n",
       "    </tr>\n",
       "    <tr>\n",
       "      <th>4</th>\n",
       "      <td>488</td>\n",
       "      <td>gate_40</td>\n",
       "      <td>179</td>\n",
       "      <td>True</td>\n",
       "      <td>True</td>\n",
       "    </tr>\n",
       "  </tbody>\n",
       "</table>\n",
       "</div>"
      ],
      "text/plain": [
       "   userid  version  sum_gamerounds  retention_1  retention_7\n",
       "0     116  gate_30               3        False        False\n",
       "1     337  gate_30              38         True        False\n",
       "2     377  gate_40             165         True        False\n",
       "3     483  gate_40               1        False        False\n",
       "4     488  gate_40             179         True         True"
      ]
     },
     "execution_count": 3,
     "metadata": {},
     "output_type": "execute_result"
    }
   ],
   "source": [
    "# transformacion\n",
    "\n",
    "juego.head()\n"
   ]
  },
  {
   "cell_type": "code",
   "execution_count": 7,
   "id": "38f422cb",
   "metadata": {},
   "outputs": [
    {
     "data": {
      "text/html": [
       "<div>\n",
       "<style scoped>\n",
       "    .dataframe tbody tr th:only-of-type {\n",
       "        vertical-align: middle;\n",
       "    }\n",
       "\n",
       "    .dataframe tbody tr th {\n",
       "        vertical-align: top;\n",
       "    }\n",
       "\n",
       "    .dataframe thead th {\n",
       "        text-align: right;\n",
       "    }\n",
       "</style>\n",
       "<table border=\"1\" class=\"dataframe\">\n",
       "  <thead>\n",
       "    <tr style=\"text-align: right;\">\n",
       "      <th>retention_1</th>\n",
       "      <th>False</th>\n",
       "      <th>True</th>\n",
       "    </tr>\n",
       "    <tr>\n",
       "      <th>version</th>\n",
       "      <th></th>\n",
       "      <th></th>\n",
       "    </tr>\n",
       "  </thead>\n",
       "  <tbody>\n",
       "    <tr>\n",
       "      <th>gate_30</th>\n",
       "      <td>24666</td>\n",
       "      <td>20034</td>\n",
       "    </tr>\n",
       "    <tr>\n",
       "      <th>gate_40</th>\n",
       "      <td>25370</td>\n",
       "      <td>20119</td>\n",
       "    </tr>\n",
       "  </tbody>\n",
       "</table>\n",
       "</div>"
      ],
      "text/plain": [
       "retention_1  False   True\n",
       "version                  \n",
       "gate_30      24666  20034\n",
       "gate_40      25370  20119"
      ]
     },
     "execution_count": 7,
     "metadata": {},
     "output_type": "execute_result"
    }
   ],
   "source": [
    "# muestreo\n",
    "cross1 = pd.crosstab(index=juego.version, columns=juego.retention_1)\n",
    "\n",
    "cross1"
   ]
  },
  {
   "cell_type": "code",
   "execution_count": 10,
   "id": "0dc15694",
   "metadata": {},
   "outputs": [
    {
     "data": {
      "text/html": [
       "<div>\n",
       "<style scoped>\n",
       "    .dataframe tbody tr th:only-of-type {\n",
       "        vertical-align: middle;\n",
       "    }\n",
       "\n",
       "    .dataframe tbody tr th {\n",
       "        vertical-align: top;\n",
       "    }\n",
       "\n",
       "    .dataframe thead th {\n",
       "        text-align: right;\n",
       "    }\n",
       "</style>\n",
       "<table border=\"1\" class=\"dataframe\">\n",
       "  <thead>\n",
       "    <tr style=\"text-align: right;\">\n",
       "      <th>retention_7</th>\n",
       "      <th>False</th>\n",
       "      <th>True</th>\n",
       "    </tr>\n",
       "    <tr>\n",
       "      <th>version</th>\n",
       "      <th></th>\n",
       "      <th></th>\n",
       "    </tr>\n",
       "  </thead>\n",
       "  <tbody>\n",
       "    <tr>\n",
       "      <th>gate_30</th>\n",
       "      <td>36198</td>\n",
       "      <td>8502</td>\n",
       "    </tr>\n",
       "    <tr>\n",
       "      <th>gate_40</th>\n",
       "      <td>37210</td>\n",
       "      <td>8279</td>\n",
       "    </tr>\n",
       "  </tbody>\n",
       "</table>\n",
       "</div>"
      ],
      "text/plain": [
       "retention_7  False  True\n",
       "version                 \n",
       "gate_30      36198  8502\n",
       "gate_40      37210  8279"
      ]
     },
     "execution_count": 10,
     "metadata": {},
     "output_type": "execute_result"
    }
   ],
   "source": [
    "cross7 = pd.crosstab(index=juego.version, columns=juego.retention_7)\n",
    "\n",
    "cross7"
   ]
  },
  {
   "cell_type": "code",
   "execution_count": 9,
   "id": "69568145",
   "metadata": {},
   "outputs": [
    {
     "data": {
      "text/plain": [
       "0"
      ]
     },
     "execution_count": 9,
     "metadata": {},
     "output_type": "execute_result"
    }
   ],
   "source": [
    "dobles= juego.userid.value_counts(ascending=False)\n",
    "\n",
    "dobles[dobles>1].count()"
   ]
  },
  {
   "cell_type": "code",
   "execution_count": 11,
   "id": "241a3f09",
   "metadata": {},
   "outputs": [
    {
     "data": {
      "text/plain": [
       "gate_40    45489\n",
       "gate_30    44700\n",
       "Name: version, dtype: int64"
      ]
     },
     "execution_count": 11,
     "metadata": {},
     "output_type": "execute_result"
    }
   ],
   "source": [
    "juego.version.value_counts()"
   ]
  },
  {
   "cell_type": "code",
   "execution_count": 14,
   "id": "41a5e86e",
   "metadata": {},
   "outputs": [
    {
     "data": {
      "text/html": [
       "<style type=\"text/css\">\n",
       "</style>\n",
       "<table id=\"T_3f10e\">\n",
       "  <thead>\n",
       "    <tr>\n",
       "      <th class=\"blank level0\" >&nbsp;</th>\n",
       "      <th id=\"T_3f10e_level0_col0\" class=\"col_heading level0 col0\" >conversion_rate</th>\n",
       "      <th id=\"T_3f10e_level0_col1\" class=\"col_heading level0 col1\" >std</th>\n",
       "      <th id=\"T_3f10e_level0_col2\" class=\"col_heading level0 col2\" >std_error</th>\n",
       "    </tr>\n",
       "    <tr>\n",
       "      <th class=\"index_name level0\" >version</th>\n",
       "      <th class=\"blank col0\" >&nbsp;</th>\n",
       "      <th class=\"blank col1\" >&nbsp;</th>\n",
       "      <th class=\"blank col2\" >&nbsp;</th>\n",
       "    </tr>\n",
       "  </thead>\n",
       "  <tbody>\n",
       "    <tr>\n",
       "      <th id=\"T_3f10e_level0_row0\" class=\"row_heading level0 row0\" >gate_30</th>\n",
       "      <td id=\"T_3f10e_row0_col0\" class=\"data row0 col0\" >0.448</td>\n",
       "      <td id=\"T_3f10e_row0_col1\" class=\"data row0 col1\" >0.497</td>\n",
       "      <td id=\"T_3f10e_row0_col2\" class=\"data row0 col2\" >0.002</td>\n",
       "    </tr>\n",
       "    <tr>\n",
       "      <th id=\"T_3f10e_level0_row1\" class=\"row_heading level0 row1\" >gate_40</th>\n",
       "      <td id=\"T_3f10e_row1_col0\" class=\"data row1 col0\" >0.442</td>\n",
       "      <td id=\"T_3f10e_row1_col1\" class=\"data row1 col1\" >0.497</td>\n",
       "      <td id=\"T_3f10e_row1_col2\" class=\"data row1 col2\" >0.002</td>\n",
       "    </tr>\n",
       "  </tbody>\n",
       "</table>\n"
      ],
      "text/plain": [
       "<pandas.io.formats.style.Styler at 0x15d4faf74f0>"
      ]
     },
     "execution_count": 14,
     "metadata": {},
     "output_type": "execute_result"
    }
   ],
   "source": [
    "tasas_conversion=juego.groupby('version')['retention_1']  # agrupo por grupo\n",
    "\n",
    "\n",
    "\n",
    "std=lambda x: np.std(x, ddof=0)    # std\n",
    "error_std=lambda x: stats.sem(x, ddof=0)   # error standard , (std/sqrt(n))\n",
    "\n",
    "\n",
    "\n",
    "tasas_conversion=tasas_conversion.agg([np.mean, std, error_std])\n",
    "tasas_conversion.columns=['conversion_rate', 'std', 'std_error']\n",
    "\n",
    "\n",
    "tasas_conversion.style.format('{:.3f}')"
   ]
  },
  {
   "cell_type": "code",
   "execution_count": 20,
   "id": "3bdf902c",
   "metadata": {},
   "outputs": [
    {
     "data": {
      "image/png": "[encoded data removed]",
      "text/plain": [
       "<Figure size 576x432 with 1 Axes>"
      ]
     },
     "metadata": {
      "needs_background": "light"
     },
     "output_type": "display_data"
    }
   ],
   "source": [
    "plt.figure(figsize=(8,6))\n",
    "\n",
    "sns.barplot(x=juego['version'], \n",
    "            y=juego['retention_1'])\n",
    "\n",
    "#plt.ylim(0, 0.17)\n",
    "plt.title('Tasa de conversión por gate')\n",
    "plt.xlabel('gate')\n",
    "plt.ylabel('Convertido (proporción)');"
   ]
  },
  {
   "cell_type": "code",
   "execution_count": 22,
   "id": "5b90c429",
   "metadata": {},
   "outputs": [],
   "source": [
    "# testeo para retention_1\n",
    "\n",
    "control_res=juego[juego.version=='gate_30']['retention_1']\n",
    "\n",
    "trat_res=juego[juego.version=='gate_40']['retention_1']"
   ]
  },
  {
   "cell_type": "code",
   "execution_count": 23,
   "id": "e78f88ed",
   "metadata": {},
   "outputs": [],
   "source": [
    "observaciones=[44700, 45489]  # count\n",
    "\n",
    "conversiones=[control_res.sum(), trat_res.sum()]  # conversiones por grupo\n",
    "\n",
    "\n",
    "z_score, p_valor = proportions_ztest(conversiones, nobs=observaciones)\n",
    "\n",
    "(control_a, trata_a), (control_b, trata_b) = proportion_confint(conversiones, \n",
    "                                                                nobs=observaciones,\n",
    "                                                                alpha=0.05)"
   ]
  },
  {
   "cell_type": "code",
   "execution_count": 24,
   "id": "6b067ceb",
   "metadata": {},
   "outputs": [
    {
     "name": "stdout",
     "output_type": "stream",
     "text": [
      "z-score: 1.78\n",
      "p-valor: 0.074\n",
      "intervalo conf 95% para grupo control: [0.444, 0.453]\n",
      "intervalo conf 95% para grupo tratamiento: [0.438, 0.447]\n"
     ]
    }
   ],
   "source": [
    "print(f'z-score: {z_score:.2f}')\n",
    "print(f'p-valor: {p_valor:.3f}')\n",
    "print(f'intervalo conf 95% para grupo control: [{control_a:.3f}, {control_b:.3f}]')\n",
    "print(f'intervalo conf 95% para grupo tratamiento: [{trata_a:.3f}, {trata_b:.3f}]')"
   ]
  },
  {
   "cell_type": "code",
   "execution_count": 25,
   "id": "9365d2a5",
   "metadata": {},
   "outputs": [
    {
     "data": {
      "text/html": [
       "<div>\n",
       "<style scoped>\n",
       "    .dataframe tbody tr th:only-of-type {\n",
       "        vertical-align: middle;\n",
       "    }\n",
       "\n",
       "    .dataframe tbody tr th {\n",
       "        vertical-align: top;\n",
       "    }\n",
       "\n",
       "    .dataframe thead th {\n",
       "        text-align: right;\n",
       "    }\n",
       "</style>\n",
       "<table border=\"1\" class=\"dataframe\">\n",
       "  <thead>\n",
       "    <tr style=\"text-align: right;\">\n",
       "      <th></th>\n",
       "      <th>conversion_rate</th>\n",
       "      <th>std</th>\n",
       "      <th>std_error</th>\n",
       "    </tr>\n",
       "    <tr>\n",
       "      <th>version</th>\n",
       "      <th></th>\n",
       "      <th></th>\n",
       "      <th></th>\n",
       "    </tr>\n",
       "  </thead>\n",
       "  <tbody>\n",
       "    <tr>\n",
       "      <th>gate_30</th>\n",
       "      <td>0.448188</td>\n",
       "      <td>0.497308</td>\n",
       "      <td>0.002352</td>\n",
       "    </tr>\n",
       "    <tr>\n",
       "      <th>gate_40</th>\n",
       "      <td>0.442283</td>\n",
       "      <td>0.496658</td>\n",
       "      <td>0.002329</td>\n",
       "    </tr>\n",
       "  </tbody>\n",
       "</table>\n",
       "</div>"
      ],
      "text/plain": [
       "         conversion_rate       std  std_error\n",
       "version                                      \n",
       "gate_30         0.448188  0.497308   0.002352\n",
       "gate_40         0.442283  0.496658   0.002329"
      ]
     },
     "execution_count": 25,
     "metadata": {},
     "output_type": "execute_result"
    }
   ],
   "source": [
    "tasas_conversion"
   ]
  },
  {
   "cell_type": "code",
   "execution_count": 26,
   "id": "d6a93471",
   "metadata": {},
   "outputs": [],
   "source": [
    "from scipy.stats import norm"
   ]
  },
  {
   "cell_type": "code",
   "execution_count": 29,
   "id": "68df4200",
   "metadata": {},
   "outputs": [
    {
     "data": {
      "image/png": "[encoded data removed]",
      "text/plain": [
       "<Figure size 432x288 with 1 Axes>"
      ]
     },
     "metadata": {
      "needs_background": "light"
     },
     "output_type": "display_data"
    }
   ],
   "source": [
    "x=[i*.1 for i in range(-10, 30)]  \n",
    "\n",
    "control=[norm.pdf(x, tasas_conversion.iloc[0][0], tasas_conversion.iloc[0][1]) for x in x] \n",
    "\n",
    "tratamiento=[norm.pdf(x, tasas_conversion.iloc[1][0], tasas_conversion.iloc[1][1]) for x in x] \n",
    "\n",
    "plt.plot(x, control)\n",
    "plt.plot(x, tratamiento)\n",
    "plt.legend(['control', 'tratamiento']);"
   ]
  },
  {
   "cell_type": "markdown",
   "id": "2230e605",
   "metadata": {},
   "source": [
    "observamos que la tasa de conversión media es mayor en el control, además el p-valor > 0.05 por lo que NO se rechaza la H0\n",
    "por lo que no hay diferencias siginificativas entre poner el limite entre la puerta 30 o 40 para 1 día"
   ]
  },
  {
   "cell_type": "code",
   "execution_count": 30,
   "id": "a048a711",
   "metadata": {},
   "outputs": [
    {
     "data": {
      "text/html": [
       "<style type=\"text/css\">\n",
       "</style>\n",
       "<table id=\"T_6c727\">\n",
       "  <thead>\n",
       "    <tr>\n",
       "      <th class=\"blank level0\" >&nbsp;</th>\n",
       "      <th id=\"T_6c727_level0_col0\" class=\"col_heading level0 col0\" >conversion_rate</th>\n",
       "      <th id=\"T_6c727_level0_col1\" class=\"col_heading level0 col1\" >std</th>\n",
       "      <th id=\"T_6c727_level0_col2\" class=\"col_heading level0 col2\" >std_error</th>\n",
       "    </tr>\n",
       "    <tr>\n",
       "      <th class=\"index_name level0\" >version</th>\n",
       "      <th class=\"blank col0\" >&nbsp;</th>\n",
       "      <th class=\"blank col1\" >&nbsp;</th>\n",
       "      <th class=\"blank col2\" >&nbsp;</th>\n",
       "    </tr>\n",
       "  </thead>\n",
       "  <tbody>\n",
       "    <tr>\n",
       "      <th id=\"T_6c727_level0_row0\" class=\"row_heading level0 row0\" >gate_30</th>\n",
       "      <td id=\"T_6c727_row0_col0\" class=\"data row0 col0\" >0.190</td>\n",
       "      <td id=\"T_6c727_row0_col1\" class=\"data row0 col1\" >0.392</td>\n",
       "      <td id=\"T_6c727_row0_col2\" class=\"data row0 col2\" >0.002</td>\n",
       "    </tr>\n",
       "    <tr>\n",
       "      <th id=\"T_6c727_level0_row1\" class=\"row_heading level0 row1\" >gate_40</th>\n",
       "      <td id=\"T_6c727_row1_col0\" class=\"data row1 col0\" >0.182</td>\n",
       "      <td id=\"T_6c727_row1_col1\" class=\"data row1 col1\" >0.386</td>\n",
       "      <td id=\"T_6c727_row1_col2\" class=\"data row1 col2\" >0.002</td>\n",
       "    </tr>\n",
       "  </tbody>\n",
       "</table>\n"
      ],
      "text/plain": [
       "<pandas.io.formats.style.Styler at 0x15d53f73280>"
      ]
     },
     "execution_count": 30,
     "metadata": {},
     "output_type": "execute_result"
    }
   ],
   "source": [
    "# testeo para retention_7\n",
    "tasas_conversion=juego.groupby('version')['retention_7']  # agrupo por grupo\n",
    "\n",
    "\n",
    "\n",
    "std=lambda x: np.std(x, ddof=0)    # std\n",
    "error_std=lambda x: stats.sem(x, ddof=0)   # error standard , (std/sqrt(n))\n",
    "\n",
    "\n",
    "\n",
    "tasas_conversion=tasas_conversion.agg([np.mean, std, error_std])\n",
    "tasas_conversion.columns=['conversion_rate', 'std', 'std_error']\n",
    "\n",
    "\n",
    "tasas_conversion.style.format('{:.3f}')\n"
   ]
  },
  {
   "cell_type": "code",
   "execution_count": 31,
   "id": "fe495578",
   "metadata": {},
   "outputs": [
    {
     "data": {
      "image/png": "[encoded data removed]",
      "text/plain": [
       "<Figure size 576x432 with 1 Axes>"
      ]
     },
     "metadata": {
      "needs_background": "light"
     },
     "output_type": "display_data"
    }
   ],
   "source": [
    "plt.figure(figsize=(8,6))\n",
    "\n",
    "sns.barplot(x=juego['version'], \n",
    "            y=juego['retention_7'])\n",
    "\n",
    "#plt.ylim(0, 0.17)\n",
    "plt.title('Tasa de conversión por gate')\n",
    "plt.xlabel('gate')\n",
    "plt.ylabel('Convertido (proporción)');"
   ]
  },
  {
   "cell_type": "code",
   "execution_count": 32,
   "id": "b255d39a",
   "metadata": {},
   "outputs": [],
   "source": [
    "control_res=juego[juego.version=='gate_30']['retention_7']\n",
    "\n",
    "trat_res=juego[juego.version=='gate_40']['retention_7']"
   ]
  },
  {
   "cell_type": "code",
   "execution_count": 33,
   "id": "e00a1f87",
   "metadata": {},
   "outputs": [],
   "source": [
    "observaciones=[44700, 45489]  # count\n",
    "\n",
    "conversiones=[control_res.sum(), trat_res.sum()]  # conversiones por grupo\n",
    "\n",
    "\n",
    "z_score, p_valor = proportions_ztest(conversiones, nobs=observaciones)\n",
    "\n",
    "(control_a, trata_a), (control_b, trata_b) = proportion_confint(conversiones, \n",
    "                                                                nobs=observaciones,\n",
    "                                                                alpha=0.05)"
   ]
  },
  {
   "cell_type": "code",
   "execution_count": 34,
   "id": "2806e771",
   "metadata": {},
   "outputs": [
    {
     "name": "stdout",
     "output_type": "stream",
     "text": [
      "z-score: 3.16\n",
      "p-valor: 0.002\n",
      "intervalo conf 95% para grupo control: [0.187, 0.194]\n",
      "intervalo conf 95% para grupo tratamiento: [0.178, 0.186]\n"
     ]
    }
   ],
   "source": [
    "print(f'z-score: {z_score:.2f}')\n",
    "print(f'p-valor: {p_valor:.3f}')\n",
    "print(f'intervalo conf 95% para grupo control: [{control_a:.3f}, {control_b:.3f}]')\n",
    "print(f'intervalo conf 95% para grupo tratamiento: [{trata_a:.3f}, {trata_b:.3f}]')"
   ]
  },
  {
   "cell_type": "code",
   "execution_count": 35,
   "id": "98c4d685",
   "metadata": {},
   "outputs": [
    {
     "data": {
      "text/html": [
       "<div>\n",
       "<style scoped>\n",
       "    .dataframe tbody tr th:only-of-type {\n",
       "        vertical-align: middle;\n",
       "    }\n",
       "\n",
       "    .dataframe tbody tr th {\n",
       "        vertical-align: top;\n",
       "    }\n",
       "\n",
       "    .dataframe thead th {\n",
       "        text-align: right;\n",
       "    }\n",
       "</style>\n",
       "<table border=\"1\" class=\"dataframe\">\n",
       "  <thead>\n",
       "    <tr style=\"text-align: right;\">\n",
       "      <th></th>\n",
       "      <th>conversion_rate</th>\n",
       "      <th>std</th>\n",
       "      <th>std_error</th>\n",
       "    </tr>\n",
       "    <tr>\n",
       "      <th>version</th>\n",
       "      <th></th>\n",
       "      <th></th>\n",
       "      <th></th>\n",
       "    </tr>\n",
       "  </thead>\n",
       "  <tbody>\n",
       "    <tr>\n",
       "      <th>gate_30</th>\n",
       "      <td>0.190201</td>\n",
       "      <td>0.392460</td>\n",
       "      <td>0.001856</td>\n",
       "    </tr>\n",
       "    <tr>\n",
       "      <th>gate_40</th>\n",
       "      <td>0.182000</td>\n",
       "      <td>0.385845</td>\n",
       "      <td>0.001809</td>\n",
       "    </tr>\n",
       "  </tbody>\n",
       "</table>\n",
       "</div>"
      ],
      "text/plain": [
       "         conversion_rate       std  std_error\n",
       "version                                      \n",
       "gate_30         0.190201  0.392460   0.001856\n",
       "gate_40         0.182000  0.385845   0.001809"
      ]
     },
     "execution_count": 35,
     "metadata": {},
     "output_type": "execute_result"
    }
   ],
   "source": [
    "tasas_conversion"
   ]
  },
  {
   "cell_type": "code",
   "execution_count": 36,
   "id": "07b136c7",
   "metadata": {},
   "outputs": [
    {
     "data": {
      "image/png": "[encoded data removed]",
      "text/plain": [
       "<Figure size 432x288 with 1 Axes>"
      ]
     },
     "metadata": {
      "needs_background": "light"
     },
     "output_type": "display_data"
    }
   ],
   "source": [
    "x=[i*.1 for i in range(-10, 30)]  \n",
    "\n",
    "control=[norm.pdf(x, tasas_conversion.iloc[0][0], tasas_conversion.iloc[0][1]) for x in x] \n",
    "\n",
    "tratamiento=[norm.pdf(x, tasas_conversion.iloc[1][0], tasas_conversion.iloc[1][1]) for x in x] \n",
    "\n",
    "plt.plot(x, control)\n",
    "plt.plot(x, tratamiento)\n",
    "plt.legend(['control', 'tratamiento']);"
   ]
  },
  {
   "cell_type": "code",
   "execution_count": null,
   "id": "cooked-magnet",
   "metadata": {},
   "outputs": [],
   "source": [
    "# conclusiones\n",
    "# Explica detalladamente las conclusiones obtenidas de. tu testeo."
   ]
  },
  {
   "cell_type": "markdown",
   "id": "95b22163",
   "metadata": {},
   "source": [
    "observamos que la tasa de conversión media es mayor en el control, el p-valor < 0.05 por lo que se rechaza la H0, es decir,\n",
    "hay diferencias siginificativas entre poner el limite entre la puerta 30 o 40 para 7 días, la media de conversión es mayor\n",
    "para la puerta 30 por lo que no recomendaríamos el cambio"
   ]
  },
  {
   "cell_type": "markdown",
   "id": "e38ea494",
   "metadata": {},
   "source": [
    "# EJERCICIO BAYES\n"
   ]
  },
  {
   "cell_type": "code",
   "execution_count": 45,
   "id": "5031f980",
   "metadata": {},
   "outputs": [],
   "source": [
    "from scipy.stats import bernoulli, beta  \n",
    "import bayes"
   ]
  },
  {
   "cell_type": "code",
   "execution_count": 37,
   "id": "8411eff1",
   "metadata": {
    "scrolled": true
   },
   "outputs": [
    {
     "data": {
      "text/html": [
       "<div>\n",
       "<style scoped>\n",
       "    .dataframe tbody tr th:only-of-type {\n",
       "        vertical-align: middle;\n",
       "    }\n",
       "\n",
       "    .dataframe tbody tr th {\n",
       "        vertical-align: top;\n",
       "    }\n",
       "\n",
       "    .dataframe thead th {\n",
       "        text-align: right;\n",
       "    }\n",
       "</style>\n",
       "<table border=\"1\" class=\"dataframe\">\n",
       "  <thead>\n",
       "    <tr style=\"text-align: right;\">\n",
       "      <th>retention_1</th>\n",
       "      <th>False</th>\n",
       "      <th>True</th>\n",
       "    </tr>\n",
       "    <tr>\n",
       "      <th>version</th>\n",
       "      <th></th>\n",
       "      <th></th>\n",
       "    </tr>\n",
       "  </thead>\n",
       "  <tbody>\n",
       "    <tr>\n",
       "      <th>gate_30</th>\n",
       "      <td>24666</td>\n",
       "      <td>20034</td>\n",
       "    </tr>\n",
       "    <tr>\n",
       "      <th>gate_40</th>\n",
       "      <td>25370</td>\n",
       "      <td>20119</td>\n",
       "    </tr>\n",
       "  </tbody>\n",
       "</table>\n",
       "</div>"
      ],
      "text/plain": [
       "retention_1  False   True\n",
       "version                  \n",
       "gate_30      24666  20034\n",
       "gate_40      25370  20119"
      ]
     },
     "execution_count": 37,
     "metadata": {},
     "output_type": "execute_result"
    }
   ],
   "source": [
    "cross1"
   ]
  },
  {
   "cell_type": "code",
   "execution_count": 39,
   "id": "f5c9539c",
   "metadata": {
    "scrolled": false
   },
   "outputs": [
    {
     "data": {
      "text/plain": [
       "gate_40    45489\n",
       "gate_30    44700\n",
       "Name: version, dtype: int64"
      ]
     },
     "execution_count": 39,
     "metadata": {},
     "output_type": "execute_result"
    }
   ],
   "source": [
    "juego.version.value_counts()"
   ]
  },
  {
   "cell_type": "code",
   "execution_count": 40,
   "id": "757cb69d",
   "metadata": {},
   "outputs": [
    {
     "data": {
      "text/plain": [
       "'TASAS: Control=0.4481879194630872, Test=0.44228274967574577'"
      ]
     },
     "execution_count": 40,
     "metadata": {},
     "output_type": "execute_result"
    }
   ],
   "source": [
    "imps_ctrl, convs_ctrl = 44700, 20034   # entrar, comprar\n",
    "imps_test, convs_test= 45489, 20119\n",
    "\n",
    "\n",
    "CR_ctrl = convs_ctrl/imps_ctrl\n",
    "CR_test = convs_test/imps_test\n",
    "\n",
    "f'TASAS: Control={CR_ctrl}, Test={CR_test}'"
   ]
  },
  {
   "cell_type": "code",
   "execution_count": 43,
   "id": "d429b675",
   "metadata": {},
   "outputs": [],
   "source": [
    "# aprioris\n",
    "\n",
    "a_C, b_C = convs_ctrl+1, imps_ctrl-convs_ctrl+1\n",
    "a_T, b_T = convs_test+1, imps_test-convs_test+1\n",
    "\n",
    "beta_control=beta(a_C, b_C)\n",
    "beta_test=beta(a_T, b_T)"
   ]
  },
  {
   "cell_type": "code",
   "execution_count": 44,
   "id": "ba71510a",
   "metadata": {},
   "outputs": [
    {
     "data": {
      "text/plain": [
       "(0.44819023757326293, 0.44228528719966587)"
      ]
     },
     "execution_count": 44,
     "metadata": {},
     "output_type": "execute_result"
    }
   ],
   "source": [
    "beta_control.mean(), beta_test.mean()"
   ]
  },
  {
   "cell_type": "code",
   "execution_count": 50,
   "id": "9b6db9d8",
   "metadata": {},
   "outputs": [
    {
     "data": {
      "image/png": "[encoded data removed]",
      "text/plain": [
       "<Figure size 432x288 with 1 Axes>"
      ]
     },
     "metadata": {
      "needs_background": "light"
     },
     "output_type": "display_data"
    }
   ],
   "source": [
    "bayes.plot([beta_control, beta_test], ['gate_30', 'gate_40'], linf=0.41, lsup=0.47)"
   ]
  },
  {
   "cell_type": "code",
   "execution_count": 51,
   "id": "c6316d21",
   "metadata": {},
   "outputs": [
    {
     "data": {
      "text/plain": [
       "-0.013175098158249857"
      ]
     },
     "execution_count": 51,
     "metadata": {},
     "output_type": "execute_result"
    }
   ],
   "source": [
    "salto=(beta_test.mean() - beta_control.mean())/beta_control.mean()\n",
    "\n",
    "salto"
   ]
  },
  {
   "cell_type": "code",
   "execution_count": 53,
   "id": "20d1b750",
   "metadata": {},
   "outputs": [
    {
     "data": {
      "text/plain": [
       "0.9627939748515354"
      ]
     },
     "execution_count": 53,
     "metadata": {},
     "output_type": "execute_result"
    }
   ],
   "source": [
    "bayes.calc_prob(beta_control, beta_test)"
   ]
  },
  {
   "cell_type": "markdown",
   "id": "fd25136c",
   "metadata": {},
   "source": [
    "La gate40 disminuye la tasa de conversion de gate30 en un 1,3%, con una probabilidad del 96,2 %"
   ]
  },
  {
   "cell_type": "code",
   "execution_count": 54,
   "id": "6e5813a0",
   "metadata": {},
   "outputs": [
    {
     "data": {
      "text/html": [
       "<div>\n",
       "<style scoped>\n",
       "    .dataframe tbody tr th:only-of-type {\n",
       "        vertical-align: middle;\n",
       "    }\n",
       "\n",
       "    .dataframe tbody tr th {\n",
       "        vertical-align: top;\n",
       "    }\n",
       "\n",
       "    .dataframe thead th {\n",
       "        text-align: right;\n",
       "    }\n",
       "</style>\n",
       "<table border=\"1\" class=\"dataframe\">\n",
       "  <thead>\n",
       "    <tr style=\"text-align: right;\">\n",
       "      <th>retention_7</th>\n",
       "      <th>False</th>\n",
       "      <th>True</th>\n",
       "    </tr>\n",
       "    <tr>\n",
       "      <th>version</th>\n",
       "      <th></th>\n",
       "      <th></th>\n",
       "    </tr>\n",
       "  </thead>\n",
       "  <tbody>\n",
       "    <tr>\n",
       "      <th>gate_30</th>\n",
       "      <td>36198</td>\n",
       "      <td>8502</td>\n",
       "    </tr>\n",
       "    <tr>\n",
       "      <th>gate_40</th>\n",
       "      <td>37210</td>\n",
       "      <td>8279</td>\n",
       "    </tr>\n",
       "  </tbody>\n",
       "</table>\n",
       "</div>"
      ],
      "text/plain": [
       "retention_7  False  True\n",
       "version                 \n",
       "gate_30      36198  8502\n",
       "gate_40      37210  8279"
      ]
     },
     "execution_count": 54,
     "metadata": {},
     "output_type": "execute_result"
    }
   ],
   "source": [
    "cross7"
   ]
  },
  {
   "cell_type": "code",
   "execution_count": 55,
   "id": "3ff68fc3",
   "metadata": {},
   "outputs": [
    {
     "data": {
      "text/plain": [
       "'TASAS: Control=0.19020134228187918, Test=0.18200004396667327'"
      ]
     },
     "execution_count": 55,
     "metadata": {},
     "output_type": "execute_result"
    }
   ],
   "source": [
    "imps_ctrl, convs_ctrl = 44700, 8502   # entrar, comprar\n",
    "imps_test, convs_test= 45489, 8279\n",
    "\n",
    "\n",
    "CR_ctrl = convs_ctrl/imps_ctrl\n",
    "CR_test = convs_test/imps_test\n",
    "\n",
    "f'TASAS: Control={CR_ctrl}, Test={CR_test}'"
   ]
  },
  {
   "cell_type": "code",
   "execution_count": 56,
   "id": "76cee37a",
   "metadata": {},
   "outputs": [],
   "source": [
    "# aprioris\n",
    "\n",
    "a_C, b_C = convs_ctrl+1, imps_ctrl-convs_ctrl+1\n",
    "a_T, b_T = convs_test+1, imps_test-convs_test+1\n",
    "\n",
    "beta_control=beta(a_C, b_C)\n",
    "beta_test=beta(a_T, b_T)"
   ]
  },
  {
   "cell_type": "code",
   "execution_count": 57,
   "id": "ebe5a6b9",
   "metadata": {},
   "outputs": [
    {
     "data": {
      "text/plain": [
       "(0.19021520289919913, 0.18201402475214878)"
      ]
     },
     "execution_count": 57,
     "metadata": {},
     "output_type": "execute_result"
    }
   ],
   "source": [
    "beta_control.mean(), beta_test.mean()"
   ]
  },
  {
   "cell_type": "code",
   "execution_count": 61,
   "id": "fba67682",
   "metadata": {},
   "outputs": [
    {
     "data": {
      "image/png": "[encoded data removed]",
      "text/plain": [
       "<Figure size 432x288 with 1 Axes>"
      ]
     },
     "metadata": {
      "needs_background": "light"
     },
     "output_type": "display_data"
    }
   ],
   "source": [
    "bayes.plot([beta_control, beta_test], ['gate_30', 'gate_40'], linf=0.17, lsup=0.2)"
   ]
  },
  {
   "cell_type": "code",
   "execution_count": 62,
   "id": "95e31520",
   "metadata": {},
   "outputs": [
    {
     "data": {
      "text/plain": [
       "-0.04311526114658881"
      ]
     },
     "execution_count": 62,
     "metadata": {},
     "output_type": "execute_result"
    }
   ],
   "source": [
    "salto=(beta_test.mean() - beta_control.mean())/beta_control.mean()\n",
    "\n",
    "salto"
   ]
  },
  {
   "cell_type": "code",
   "execution_count": 64,
   "id": "cf9e260c",
   "metadata": {},
   "outputs": [
    {
     "data": {
      "text/plain": [
       "0.9992226613235504"
      ]
     },
     "execution_count": 64,
     "metadata": {},
     "output_type": "execute_result"
    }
   ],
   "source": [
    "bayes.calc_prob(beta_control, beta_test)"
   ]
  },
  {
   "cell_type": "markdown",
   "id": "75eb7bb6",
   "metadata": {},
   "source": [
    "La gate40 disminuye la tasa de conversion de gate30 en un 4,3%, con una probabilidad del 99.9 %"
   ]
  },
  {
   "cell_type": "markdown",
   "id": "97c95e50",
   "metadata": {},
   "source": [
    "Con la solución de los dos test se rechaza el cambio de poner la gate40"
   ]
  },
  {
   "cell_type": "code",
   "execution_count": null,
   "id": "e8ba6df5",
   "metadata": {},
   "outputs": [],
   "source": []
  }
 ],
 "metadata": {
  "finalized": {
   "timestamp": 1642857010293,
   "trusted": true
  },
  "kernelspec": {
   "display_name": "Python 3 (ipykernel)",
   "language": "python",
   "name": "python3"
  },
  "language_info": {
   "codemirror_mode": {
    "name": "ipython",
    "version": 3
   },
   "file_extension": ".py",
   "mimetype": "text/x-python",
   "name": "python",
   "nbconvert_exporter": "python",
   "pygments_lexer": "ipython3",
   "version": "3.9.12"
  },
  "toc": {
   "base_numbering": 1,
   "nav_menu": {},
   "number_sections": true,
   "sideBar": true,
   "skip_h1_title": false,
   "title_cell": "Table of Contents",
   "title_sidebar": "Contents",
   "toc_cell": true,
   "toc_position": {},
   "toc_section_display": true,
   "toc_window_display": false
  },
  "varInspector": {
   "cols": {
    "lenName": 16,
    "lenType": 16,
    "lenVar": 40
   },
   "kernels_config": {
    "python": {
     "delete_cmd_postfix": "",
     "delete_cmd_prefix": "del ",
     "library": "var_list.py",
     "varRefreshCmd": "print(var_dic_list())"
    },
    "r": {
     "delete_cmd_postfix": ") ",
     "delete_cmd_prefix": "rm(",
     "library": "var_list.r",
     "varRefreshCmd": "cat(var_dic_list()) "
    }
   },
   "types_to_exclude": [
    "module",
    "function",
    "builtin_function_or_method",
    "instance",
    "_Feature"
   ],
   "window_display": false
  }
 },
 "nbformat": 4,
 "nbformat_minor": 5
}
